{
 "cells": [
  {
   "cell_type": "markdown",
   "metadata": {},
   "source": [
    "# Human Presence Sensing"
   ]
  },
  {
   "cell_type": "markdown",
   "metadata": {},
   "source": [
    "### Importing the necessary Libraries "
   ]
  },
  {
   "cell_type": "code",
   "execution_count": 1,
   "metadata": {},
   "outputs": [
    {
     "name": "stderr",
     "output_type": "stream",
     "text": [
      "C:\\Anaconda3\\lib\\site-packages\\sklearn\\ensemble\\weight_boosting.py:29: DeprecationWarning: numpy.core.umath_tests is an internal NumPy module and should not be imported. It will be removed in a future NumPy release.\n",
      "  from numpy.core.umath_tests import inner1d\n"
     ]
    }
   ],
   "source": [
    "import numpy as np\n",
    "import pandas as pd\n",
    "import matplotlib.pyplot as plt\n",
    "import seaborn as sns\n",
    "\n",
    "from sklearn.feature_selection import VarianceThreshold\n",
    "from sklearn.model_selection import TimeSeriesSplit, cross_val_score, GridSearchCV\n",
    "\n",
    "from sklearn.linear_model import LogisticRegression\n",
    "from sklearn.ensemble import GradientBoostingClassifier\n",
    "from sklearn.tree import DecisionTreeClassifier\n",
    "\n",
    "from sklearn.metrics import classification_report, confusion_matrix, roc_curve, auc, roc_auc_score\n",
    "\n",
    "import statsmodels.api as sm\n",
    "\n",
    "import warnings\n",
    "warnings.filterwarnings('ignore')\n",
    "\n",
    "%matplotlib inline"
   ]
  },
  {
   "cell_type": "markdown",
   "metadata": {},
   "source": [
    "### Reading and Exploring the Data"
   ]
  },
  {
   "cell_type": "code",
   "execution_count": 2,
   "metadata": {},
   "outputs": [],
   "source": [
    "# Reading the data into a Pandas Data-Frame\n",
    "data = pd.read_csv('sample_data.txt',sep=\",\")"
   ]
  },
  {
   "cell_type": "code",
   "execution_count": 3,
   "metadata": {},
   "outputs": [],
   "source": [
    "# Function to clean the data\n",
    "def clean_data(data):\n",
    "    \"\"\"\n",
    "    Function to clean the dataset by:\n",
    "    -removing whitespaces and special characters \n",
    "    -fixing data-types\n",
    "    -converting Stream, Overall, and Truth data to '0' or '1' values\n",
    "    -setting 'Timestamp' as the index for the dataset\n",
    "    \n",
    "    Arguments:\n",
    "    data: The dataset read as a pandas dataframe\n",
    "    \n",
    "    Returns:\n",
    "    data: The cleaned-data in the form of a pandas dataframe\n",
    "    \"\"\"\n",
    "    # Removing whitespaces from column-names\n",
    "    data = data.rename(columns=lambda x: x.strip())\n",
    "    \n",
    "    # Removing whitespaces from the data in each column\n",
    "    data['Stream1']=data['Stream1'].map(lambda x: x.strip())\n",
    "    data['Stream2']=data['Stream2'].map(lambda x: x.strip())\n",
    "    data['Stream3']=data['Stream3'].map(lambda x: x.strip())\n",
    "    data['Stream4']=data['Stream4'].map(lambda x: x.strip())\n",
    "    data['Overall']=data['Overall'].map(lambda x: x.strip())\n",
    "    data['Truth']=data['Truth'].map(lambda x: x.strip())\n",
    "    \n",
    "    # Removing the special characters from the Timestamp and fixing the data-type\n",
    "    data['Timestamp']=data['Timestamp'].map(lambda x: x.strip('[]'))\n",
    "    data['Timestamp'] = pd.to_datetime(data['Timestamp'], infer_datetime_format=True)\n",
    "    \n",
    "    # Converting the Stream, Overall, and Truth data to boolean values\n",
    "    d = {'True': True, 'False': False}\n",
    "    data['Stream1']= data['Stream1'].map(d)\n",
    "    data['Stream2']=data['Stream2'].map(d)\n",
    "    data['Stream3']=data['Stream3'].map(d)\n",
    "    data['Stream4']=data['Stream4'].map(d)\n",
    "    data['Overall']=data['Overall'].map(d)\n",
    "    data['Truth']=data['Truth'].map(d)\n",
    "    \n",
    "    # Converting the Stream, Overall, and Truth data to '0' or '1' values for ease of analysis\n",
    "    data['Stream1']=data['Stream1'].astype('int')\n",
    "    data['Stream2']=data['Stream2'].astype('int')\n",
    "    data['Stream3']=data['Stream3'].astype('int')\n",
    "    data['Stream4']=data['Stream4'].astype('int')\n",
    "    data['Overall']=data['Overall'].astype('int')\n",
    "    data['Truth']=data['Truth'].astype('int')\n",
    "    \n",
    "    # Setting the Timestamp as the index for the dataset\n",
    "    data.set_index('Timestamp',inplace=True)\n",
    "    \n",
    "    # Returning the cleaned data\n",
    "    return(data)\n",
    "\n",
    "# Function for initial data exploration\n",
    "def data_explore_1(data):\n",
    "    \"\"\"\n",
    "    Function to explore the dataset before cleaning by viewing:\n",
    "    -a sample of the dataset\n",
    "    -the number of null-values in the dataset\n",
    "    -column details\n",
    "    -unique classes in each column\n",
    "    \n",
    "    Arguments:\n",
    "    data: The dataset read as a pandas dataframe\n",
    "    \"\"\"\n",
    "    print(\"This dataset has \"+str(len(data.index))+\" rows and \"+str(len(data.columns))+\" columns.\")\n",
    "    print('\\n\\n')\n",
    "    print(\"First few observations in the dataset: \\n\\n\"+ str(data.head()))\n",
    "    print('\\n\\n')\n",
    "    print(\"Number of Null-values in each column: \\n\\n\"+ str(data.isna().sum()))\n",
    "    print('\\n\\n')\n",
    "    print(\"Information regarding the columns in the dataset: \\n\")\n",
    "    print(data.info())\n",
    "    print('\\n\\n')\n",
    "    print(\"Unique values in each column in the dataset:\\n\")\n",
    "    for col in data.columns:\n",
    "        print(\"Unique values in \"+col+\": \"+str(data[col].unique()))\n",
    "    \n",
    "# Function for data exploration post cleaning\n",
    "def data_explore_2(data):\n",
    "    \"\"\"\n",
    "    Function to explore the dataset after cleaning by viewing:\n",
    "    -a sample of the dataset\n",
    "    -column details\n",
    "    -unique classes in each column\n",
    "    -correlation between the features\n",
    "    -accuracy of the black box non-ML algorithm\n",
    "    -spacing between the observations\n",
    "    \n",
    "    Arguments:\n",
    "    data: The dataset read as a pandas dataframe\n",
    "    \"\"\"\n",
    "    print(\"First few observations in the dataset: \\n\\n\"+ str(data.head()))\n",
    "    print('\\n\\n')\n",
    "    print(\"Information regarding the columns in the dataset: \\n\")\n",
    "    print(data.info())\n",
    "    print('\\n\\n')\n",
    "    print(\"Unique values in each column in the dataset:\\n\")\n",
    "    for col in data.columns:\n",
    "        print(\"Unique values in \"+col+\": \"+str(data[col].unique()))\n",
    "        print(\"Value Counts:\")\n",
    "        print(data[col].value_counts())\n",
    "        print('\\n')\n",
    "    print('\\n\\n')\n",
    "    print(\"Checking for correlation between the variables:\\n\")\n",
    "    print(data.corr())\n",
    "    print('\\n\\n')\n",
    "    print(\"The accuracy of the black box non-ML algorithm = \" + str(sum(data['Overall']==data['Truth'])/data.shape[0]))\n",
    "       \n",
    "    # Studying the spacing between the observations and its frequency\n",
    "    Time_Diff = [(data.index[i+1] - data.index[i]).total_seconds() for i in range(len(data.index)-1)]\n",
    "    unique_difference = set(Time_Diff)\n",
    "    print('\\n\\n')\n",
    "    print(\"The spacing between the observations in terms of sampling time and the frequency of each difference:\\n\")\n",
    "    print([(i,Time_Diff.count(i)) for i in unique_difference])\n",
    "    "
   ]
  },
  {
   "cell_type": "code",
   "execution_count": 4,
   "metadata": {},
   "outputs": [
    {
     "name": "stdout",
     "output_type": "stream",
     "text": [
      "This dataset has 8241 rows and 7 columns.\n",
      "\n",
      "\n",
      "\n",
      "First few observations in the dataset: \n",
      "\n",
      "                   Timestamp  Stream1  Stream2  Stream3  Stream4  Overall  \\\n",
      "0  [2016-07-05 20:01:32.470]    False    False    False    False    False   \n",
      "1  [2016-07-05 20:01:32.580]    False    False    False    False    False   \n",
      "2  [2016-07-05 20:01:32.727]    False    False    False    False    False   \n",
      "3  [2016-07-05 20:01:32.837]    False    False    False    False    False   \n",
      "4  [2016-07-05 20:01:32.947]    False    False    False    False    False   \n",
      "\n",
      "    Truth  \n",
      "0   False  \n",
      "1   False  \n",
      "2   False  \n",
      "3   False  \n",
      "4   False  \n",
      "\n",
      "\n",
      "\n",
      "Number of Null-values in each column: \n",
      "\n",
      "Timestamp    0\n",
      " Stream1     0\n",
      " Stream2     0\n",
      " Stream3     0\n",
      " Stream4     0\n",
      " Overall     0\n",
      " Truth       0\n",
      "dtype: int64\n",
      "\n",
      "\n",
      "\n",
      "Information regarding the columns in the dataset: \n",
      "\n",
      "<class 'pandas.core.frame.DataFrame'>\n",
      "RangeIndex: 8241 entries, 0 to 8240\n",
      "Data columns (total 7 columns):\n",
      "Timestamp    8241 non-null object\n",
      " Stream1     8241 non-null object\n",
      " Stream2     8241 non-null object\n",
      " Stream3     8241 non-null object\n",
      " Stream4     8241 non-null object\n",
      " Overall     8241 non-null object\n",
      " Truth       8241 non-null object\n",
      "dtypes: object(7)\n",
      "memory usage: 450.8+ KB\n",
      "None\n",
      "\n",
      "\n",
      "\n",
      "Unique values in each column in the dataset:\n",
      "\n",
      "Unique values in Timestamp: ['[2016-07-05 20:01:32.470]' '[2016-07-05 20:01:32.580]'\n",
      " '[2016-07-05 20:01:32.727]' ... '[2016-07-05 20:18:21.111]'\n",
      " '[2016-07-05 20:18:21.211]' '[2016-07-05 20:18:21.356]']\n",
      "Unique values in  Stream1: [' False' ' True']\n",
      "Unique values in  Stream2: [' False' ' True']\n",
      "Unique values in  Stream3: [' False']\n",
      "Unique values in  Stream4: [' False' ' True']\n",
      "Unique values in  Overall: [' False' ' True']\n",
      "Unique values in  Truth: [' False' ' True']\n"
     ]
    }
   ],
   "source": [
    "# Exploratory analysis on the data\n",
    "data_explore_1(data)"
   ]
  },
  {
   "cell_type": "markdown",
   "metadata": {},
   "source": [
    "##### It is apparent that there are whitespaces, special characters, and datatypes in the dataset that need to be fixed. Additionally, the TimeStamp isn't equally spaced (varying sampling rate). "
   ]
  },
  {
   "cell_type": "code",
   "execution_count": 5,
   "metadata": {},
   "outputs": [],
   "source": [
    "# Cleaning the data\n",
    "data = clean_data(data)"
   ]
  },
  {
   "cell_type": "code",
   "execution_count": 6,
   "metadata": {},
   "outputs": [
    {
     "name": "stdout",
     "output_type": "stream",
     "text": [
      "First few observations in the dataset: \n",
      "\n",
      "                         Stream1  Stream2  Stream3  Stream4  Overall  Truth\n",
      "Timestamp                                                                  \n",
      "2016-07-05 20:01:32.470        0        0        0        0        0      0\n",
      "2016-07-05 20:01:32.580        0        0        0        0        0      0\n",
      "2016-07-05 20:01:32.727        0        0        0        0        0      0\n",
      "2016-07-05 20:01:32.837        0        0        0        0        0      0\n",
      "2016-07-05 20:01:32.947        0        0        0        0        0      0\n",
      "\n",
      "\n",
      "\n",
      "Information regarding the columns in the dataset: \n",
      "\n",
      "<class 'pandas.core.frame.DataFrame'>\n",
      "DatetimeIndex: 8241 entries, 2016-07-05 20:01:32.470000 to 2016-07-05 20:18:21.356000\n",
      "Data columns (total 6 columns):\n",
      "Stream1    8241 non-null int32\n",
      "Stream2    8241 non-null int32\n",
      "Stream3    8241 non-null int32\n",
      "Stream4    8241 non-null int32\n",
      "Overall    8241 non-null int32\n",
      "Truth      8241 non-null int32\n",
      "dtypes: int32(6)\n",
      "memory usage: 257.5 KB\n",
      "None\n",
      "\n",
      "\n",
      "\n",
      "Unique values in each column in the dataset:\n",
      "\n",
      "Unique values in Stream1: [0 1]\n",
      "Value Counts:\n",
      "0    6810\n",
      "1    1431\n",
      "Name: Stream1, dtype: int64\n",
      "\n",
      "\n",
      "Unique values in Stream2: [0 1]\n",
      "Value Counts:\n",
      "0    6867\n",
      "1    1374\n",
      "Name: Stream2, dtype: int64\n",
      "\n",
      "\n",
      "Unique values in Stream3: [0]\n",
      "Value Counts:\n",
      "0    8241\n",
      "Name: Stream3, dtype: int64\n",
      "\n",
      "\n",
      "Unique values in Stream4: [0 1]\n",
      "Value Counts:\n",
      "0    6560\n",
      "1    1681\n",
      "Name: Stream4, dtype: int64\n",
      "\n",
      "\n",
      "Unique values in Overall: [0 1]\n",
      "Value Counts:\n",
      "1    5980\n",
      "0    2261\n",
      "Name: Overall, dtype: int64\n",
      "\n",
      "\n",
      "Unique values in Truth: [0 1]\n",
      "Value Counts:\n",
      "1    5979\n",
      "0    2262\n",
      "Name: Truth, dtype: int64\n",
      "\n",
      "\n",
      "\n",
      "\n",
      "\n",
      "Checking for correlation between the variables:\n",
      "\n",
      "          Stream1   Stream2  Stream3   Stream4   Overall     Truth\n",
      "Stream1  1.000000  0.368190      NaN -0.201044  0.281868  0.281954\n",
      "Stream2  0.368190  1.000000      NaN -0.166648  0.274319  0.274403\n",
      "Stream3       NaN       NaN      NaN       NaN       NaN       NaN\n",
      "Stream4 -0.201044 -0.166648      NaN  1.000000  0.311266  0.311361\n",
      "Overall  0.281868  0.274319      NaN  0.311266  1.000000  0.733987\n",
      "Truth    0.281954  0.274403      NaN  0.311361  0.733987  1.000000\n",
      "\n",
      "\n",
      "\n",
      "The accuracy of the black box non-ML algorithm = 0.8940662540953768\n",
      "\n",
      "\n",
      "\n",
      "The spacing between the observations in terms of sampling time and the frequency of each difference:\n",
      "\n",
      "[(0.133, 1), (1.15, 1), (0.55, 1), (2.302, 1), (1.658, 1), (2.022, 1), (0.125, 1), (0.119, 4), (0.121, 1), (0.615, 1), (3.778, 1), (2.927, 1), (0.115, 7), (0.117, 5), (0.111, 1405), (0.109, 408), (0.105, 16), (0.103, 5), (0.113, 6), (0.107, 20), (0.099, 1), (0.097, 3), (0.091, 1), (0.073, 1), (0.083, 1), (0.155, 1), (0.18, 1), (0.426, 1), (0.069, 1), (0.339, 1), (0.065, 1), (0.545, 1), (0.051, 1), (0.055, 1), (0.043, 1), (0.049, 1), (0.166, 1), (0.037, 4), (0.039, 3), (0.041, 3), (0.123, 1), (0.16, 1), (0.031, 3), (0.15, 2), (0.035, 6), (0.146, 403), (0.148, 261), (0.142, 10), (0.144, 6), (0.156, 1), (0.152, 4), (0.029, 6), (0.027, 9), (0.154, 1), (0.025, 6), (0.023, 9), (0.019, 2), (0.017, 3), (0.015, 1), (0.009, 3), (0.007, 16), (0.005, 17), (0.118, 5), (0.14, 4), (0.124, 1), (0.987, 1), (0.138, 1), (0.12, 3), (0.253, 1), (0.382, 1), (0.745, 1), (0.586, 1), (0.657, 1), (0.034, 2), (0.102, 6), (0.11, 3355), (0.104, 6), (0.116, 7), (0.114, 13), (0.106, 13), (0.112, 29), (0.108, 22), (0.139, 2), (0.098, 1), (0.096, 3), (0.1, 3), (0.094, 1), (0.092, 1), (0.078, 1), (0.072, 1), (0.033, 7), (0.158, 1), (0.342, 1), (0.457, 1), (0.195, 2), (0.548, 1), (0.064, 1), (0.066, 1), (0.056, 2), (0.05, 2), (0.046, 2), (0.048, 1), (0.038, 5), (0.036, 1), (0.042, 3), (0.04, 3), (0.157, 2), (0.153, 6), (0.141, 4), (0.147, 1927), (0.143, 8), (0.159, 1), (0.165, 1), (0.032, 6), (0.03, 6), (0.026, 4), (0.149, 7), (0.028, 4), (0.151, 3), (0.022, 2), (0.024, 5), (0.018, 5), (0.02, 6), (0.145, 12), (0.016, 7), (0.014, 1), (0.01, 2), (0.008, 2), (0.006, 11), (0.004, 1)]\n"
     ]
    }
   ],
   "source": [
    "# Data exploration post-cleaning\n",
    "data_explore_2(data)"
   ]
  },
  {
   "cell_type": "markdown",
   "metadata": {},
   "source": [
    "#### It is evident that the classes are quite imbalenced. [Around 73% of the observations belong to when humans were present in the room]. Additionally, there is significant correlation (0.74) between 'Truth' and 'Overall', which is quite expected. We can also see that there aren't any duplicated features."
   ]
  },
  {
   "cell_type": "markdown",
   "metadata": {},
   "source": [
    "#### Another challege that is evident from the EDA is the unequal spacing between the observations. This should be taken care of since most Machine Learning models assume that the data fed into it is an equally spaced Time-series."
   ]
  },
  {
   "cell_type": "code",
   "execution_count": 7,
   "metadata": {},
   "outputs": [
    {
     "data": {
      "text/plain": [
       "5"
      ]
     },
     "execution_count": 7,
     "metadata": {},
     "output_type": "execute_result"
    }
   ],
   "source": [
    "# Finding the number of non-constant and non-quasi-constant features\n",
    "sel = VarianceThreshold(threshold=0.01)  # 0.1 indicates 99% of observations approximately\n",
    " \n",
    "sel.fit(data)  # fit finds the features with low variance\n",
    " \n",
    "sum(sel.get_support())"
   ]
  },
  {
   "cell_type": "markdown",
   "metadata": {},
   "source": [
    "#### Only one feature, Stream3, is constant. The rest of the features provide significant information on the Truth varaible. This might be because of the following reasons: (1)Sensor at Node-3 is not operational; (2) The ON-Threshold value used by the Black Box Stream Algorithm to analyze Raw-Stream-3 is too high and hence it is unable to detect human presence; (3) There is some object (maybe made up of aluminum foil, and other electrically conductive metals) interfering with the RF signals; (4) The sensor is positioned in an inaccessible part of the room (which is possibly very large);"
   ]
  },
  {
   "cell_type": "markdown",
   "metadata": {},
   "source": [
    "### Visualizing the Data"
   ]
  },
  {
   "cell_type": "code",
   "execution_count": 8,
   "metadata": {},
   "outputs": [
    {
     "data": {
      "image/png": "[encoded data removed]",
      "text/plain": [
       "<Figure size 1440x720 with 5 Axes>"
      ]
     },
     "metadata": {},
     "output_type": "display_data"
    }
   ],
   "source": [
    "# Visualizing the movement of the variables across time\n",
    "f, (ax1, ax2, ax3, ax4, ax5) = plt.subplots(5, sharex=True, sharey=True,figsize=(20,10))\n",
    "ax1.plot(data.index, data['Truth'])\n",
    "ax1.set_title('Variation across Time')\n",
    "ax2.plot(data.index, data['Stream1'], color='r')\n",
    "ax3.plot(data.index, data['Stream2'], color='r')\n",
    "ax4.plot(data.index, data['Stream4'], color='r')\n",
    "ax5.plot(data.index, data['Overall'], color='r')\n",
    "ax1.set_ylabel('Truth')\n",
    "ax2.set_ylabel('Stream 1')\n",
    "ax3.set_ylabel('Stream 2')\n",
    "ax4.set_ylabel('Stream 4')\n",
    "ax5.set_ylabel('Overall')\n",
    "plt.show()"
   ]
  },
  {
   "cell_type": "markdown",
   "metadata": {},
   "source": [
    "##### The spike in Stream 2 at '2016-07-05 20:09:12.048' looks like a disturbance rather than the presence of a human. It lasted only for a few milli-seconds and it was observed when there wasn't any human present in the room."
   ]
  },
  {
   "cell_type": "markdown",
   "metadata": {},
   "source": [
    "##### It seems like the Black Box non-ML algorithm predicts the presence of a human if any one of the data streams detects the presence. Additionally, if Stream-1 changes its Truth value from 1 to 0 (while the rest of the Streams show '0'), the Black Box algorithm will maintain its Truth value as '1' for an additional 58 seconds approximately. Similarly for Stream-2 it persists for an additional 37 seconds and for Stream-4 it is 47 seconds approximately."
   ]
  },
  {
   "cell_type": "code",
   "execution_count": 9,
   "metadata": {},
   "outputs": [
    {
     "data": {
      "image/png": "[encoded data removed]",
      "text/plain": [
       "<Figure size 360x720 with 5 Axes>"
      ]
     },
     "metadata": {},
     "output_type": "display_data"
    }
   ],
   "source": [
    "# Visualizing the distribution of classes across variables\n",
    "f, (ax1, ax2, ax3, ax4, ax5) = plt.subplots(5, sharex=True, sharey=True,figsize=(5,10))\n",
    "ax1.hist(data['Truth'])\n",
    "ax1.set_title('Variation across Time')\n",
    "ax2.hist(data['Stream1'], color='r')\n",
    "ax3.hist(data['Stream2'], color='r')\n",
    "ax4.hist(data['Stream4'], color='r')\n",
    "ax5.hist(data['Overall'], color='r')\n",
    "ax1.set_ylabel('Truth')\n",
    "ax2.set_ylabel('Stream 1')\n",
    "ax3.set_ylabel('Stream 2')\n",
    "ax4.set_ylabel('Stream 4')\n",
    "ax5.set_ylabel('Overall')\n",
    "plt.show()"
   ]
  },
  {
   "cell_type": "code",
   "execution_count": 10,
   "metadata": {},
   "outputs": [
    {
     "data": {
      "text/plain": [
       "Text(0,0.5,'Number of Predictions')"
      ]
     },
     "execution_count": 10,
     "metadata": {},
     "output_type": "execute_result"
    },
    {
     "data": {
      "image/png": "[encoded data removed]",
      "text/plain": [
       "<Figure size 432x288 with 1 Axes>"
      ]
     },
     "metadata": {},
     "output_type": "display_data"
    }
   ],
   "source": [
    "# Visualizing the prediction of the Black Box non-ML Algorithm\n",
    "pd.crosstab(data.Overall,data.Truth).plot(kind='bar')\n",
    "plt.title('Truth Vs Overall')\n",
    "plt.xlabel('Overall')\n",
    "plt.ylabel('Number of Predictions')"
   ]
  },
  {
   "cell_type": "code",
   "execution_count": 11,
   "metadata": {},
   "outputs": [
    {
     "data": {
      "text/html": [
       "<div>\n",
       "<style scoped>\n",
       "    .dataframe tbody tr th:only-of-type {\n",
       "        vertical-align: middle;\n",
       "    }\n",
       "\n",
       "    .dataframe tbody tr th {\n",
       "        vertical-align: top;\n",
       "    }\n",
       "\n",
       "    .dataframe thead th {\n",
       "        text-align: right;\n",
       "    }\n",
       "</style>\n",
       "<table border=\"1\" class=\"dataframe\">\n",
       "  <thead>\n",
       "    <tr style=\"text-align: right;\">\n",
       "      <th></th>\n",
       "      <th></th>\n",
       "      <th></th>\n",
       "      <th></th>\n",
       "      <th>Count</th>\n",
       "    </tr>\n",
       "    <tr>\n",
       "      <th>Stream1</th>\n",
       "      <th>Stream2</th>\n",
       "      <th>Stream3</th>\n",
       "      <th>Stream4</th>\n",
       "      <th></th>\n",
       "    </tr>\n",
       "  </thead>\n",
       "  <tbody>\n",
       "    <tr>\n",
       "      <th rowspan=\"4\" valign=\"top\">0</th>\n",
       "      <th rowspan=\"2\" valign=\"top\">0</th>\n",
       "      <th rowspan=\"2\" valign=\"top\">0</th>\n",
       "      <th>0</th>\n",
       "      <td>4535</td>\n",
       "    </tr>\n",
       "    <tr>\n",
       "      <th>1</th>\n",
       "      <td>1568</td>\n",
       "    </tr>\n",
       "    <tr>\n",
       "      <th rowspan=\"2\" valign=\"top\">1</th>\n",
       "      <th rowspan=\"2\" valign=\"top\">0</th>\n",
       "      <th>0</th>\n",
       "      <td>633</td>\n",
       "    </tr>\n",
       "    <tr>\n",
       "      <th>1</th>\n",
       "      <td>74</td>\n",
       "    </tr>\n",
       "    <tr>\n",
       "      <th rowspan=\"3\" valign=\"top\">1</th>\n",
       "      <th rowspan=\"2\" valign=\"top\">0</th>\n",
       "      <th rowspan=\"2\" valign=\"top\">0</th>\n",
       "      <th>0</th>\n",
       "      <td>725</td>\n",
       "    </tr>\n",
       "    <tr>\n",
       "      <th>1</th>\n",
       "      <td>39</td>\n",
       "    </tr>\n",
       "    <tr>\n",
       "      <th>1</th>\n",
       "      <th>0</th>\n",
       "      <th>0</th>\n",
       "      <td>667</td>\n",
       "    </tr>\n",
       "  </tbody>\n",
       "</table>\n",
       "</div>"
      ],
      "text/plain": [
       "                                 Count\n",
       "Stream1 Stream2 Stream3 Stream4       \n",
       "0       0       0       0         4535\n",
       "                        1         1568\n",
       "        1       0       0          633\n",
       "                        1           74\n",
       "1       0       0       0          725\n",
       "                        1           39\n",
       "        1       0       0          667"
      ]
     },
     "metadata": {},
     "output_type": "display_data"
    }
   ],
   "source": [
    "# Studying the frequency of various states of the Stream data\n",
    "data_grouped = data.groupby(['Stream1','Stream2','Stream3','Stream4'])\n",
    "grp_count = data_grouped[['Truth']].count()\n",
    "grp_count.rename(columns={'Truth':'Count'},inplace=True)\n",
    "display(grp_count)"
   ]
  },
  {
   "cell_type": "markdown",
   "metadata": {},
   "source": [
    "#### It is evident that the features are highly sparse."
   ]
  },
  {
   "cell_type": "markdown",
   "metadata": {},
   "source": [
    "### Converting the Data to an Evenly-Spaced Time Series"
   ]
  },
  {
   "cell_type": "code",
   "execution_count": 12,
   "metadata": {},
   "outputs": [
    {
     "data": {
      "image/png": "[encoded data removed]",
      "text/plain": [
       "<Figure size 1440x720 with 8 Axes>"
      ]
     },
     "metadata": {},
     "output_type": "display_data"
    }
   ],
   "source": [
    "# Comparing the Original-Data with data downsampled with a frequency of 250 milli-seconds (using max() for aggregation)\n",
    "data_resampled_max = data.resample('0.25S').max()\n",
    "f, (ax1, ax2, ax3, ax4, ax5,ax6,ax7,ax8) = plt.subplots(8, sharex=True, sharey=True,figsize=(20,10))\n",
    "ax1.plot(data_resampled_max.index, data_resampled_max['Truth'])\n",
    "ax1.set_title('Variation across Time')\n",
    "ax2.plot(data.index, data['Truth'])\n",
    "ax3.plot(data_resampled_max.index, data_resampled_max['Stream1'], color='r')\n",
    "ax4.plot(data.index, data['Stream1'], color='r')\n",
    "ax5.plot(data_resampled_max.index, data_resampled_max['Stream2'], color='r')\n",
    "ax6.plot(data.index, data['Stream2'], color='r')\n",
    "ax7.plot(data_resampled_max.index, data_resampled_max['Stream4'], color='r')\n",
    "ax8.plot(data.index, data['Stream4'], color='r')\n",
    "\n",
    "\n",
    "ax1.set_ylabel('Truth_New')\n",
    "ax2.set_ylabel('Truth')\n",
    "ax3.set_ylabel('Stream 1 New')\n",
    "ax4.set_ylabel('Stream 1')\n",
    "ax5.set_ylabel('Stream 2 New')\n",
    "ax6.set_ylabel('Stream 2')\n",
    "ax7.set_ylabel('Stream 4 New')\n",
    "ax8.set_ylabel('Stream 4')\n",
    "\n",
    "plt.show()"
   ]
  },
  {
   "cell_type": "code",
   "execution_count": 13,
   "metadata": {},
   "outputs": [
    {
     "data": {
      "image/png": "[encoded data removed]",
      "text/plain": [
       "<Figure size 1440x720 with 8 Axes>"
      ]
     },
     "metadata": {},
     "output_type": "display_data"
    }
   ],
   "source": [
    "# Comparing the Original-Data with data downsampled with a frequency of 250 milli-seconds (using last() for aggregation)\n",
    "data_resampled_last = data.resample('0.25S').last()\n",
    "f, (ax1, ax2, ax3, ax4, ax5,ax6,ax7,ax8) = plt.subplots(8, sharex=True, sharey=True,figsize=(20,10))\n",
    "ax1.plot(data_resampled_max.index, data_resampled_max['Truth'])\n",
    "ax1.set_title('Variation across Time')\n",
    "ax2.plot(data.index, data['Truth'])\n",
    "ax3.plot(data_resampled_max.index, data_resampled_max['Stream1'], color='r')\n",
    "ax4.plot(data.index, data['Stream1'], color='r')\n",
    "ax5.plot(data_resampled_max.index, data_resampled_max['Stream2'], color='r')\n",
    "ax6.plot(data.index, data['Stream2'], color='r')\n",
    "ax7.plot(data_resampled_max.index, data_resampled_max['Stream4'], color='r')\n",
    "ax8.plot(data.index, data['Stream4'], color='r')\n",
    "\n",
    "\n",
    "ax1.set_ylabel('Truth_New')\n",
    "ax2.set_ylabel('Truth')\n",
    "ax3.set_ylabel('Stream 1 New')\n",
    "ax4.set_ylabel('Stream 1')\n",
    "ax5.set_ylabel('Stream 2 New')\n",
    "ax6.set_ylabel('Stream 2')\n",
    "ax7.set_ylabel('Stream 4 New')\n",
    "ax8.set_ylabel('Stream 4')\n",
    "\n",
    "plt.show()"
   ]
  },
  {
   "cell_type": "code",
   "execution_count": 14,
   "metadata": {},
   "outputs": [
    {
     "data": {
      "image/png": "[encoded data removed]",
      "text/plain": [
       "<Figure size 1440x720 with 8 Axes>"
      ]
     },
     "metadata": {},
     "output_type": "display_data"
    }
   ],
   "source": [
    "# Comparing the Original-Data with data resampled using a two-step process\n",
    "# Step_1: upsample the data with a frequency of 1 milli-seconds (using the last as aggregation function and linear interpolation)\n",
    "# Step_2: downsample the data to the desired goal frequency using a forward fill aggregation\n",
    "temp = data.resample('ms').ffill().interpolate()\n",
    "data_resampled_twostep = temp.resample('0.25S').ffill()\n",
    "f, (ax1, ax2, ax3, ax4, ax5,ax6,ax7,ax8) = plt.subplots(8, sharex=True, sharey=True,figsize=(20,10))\n",
    "ax1.plot(data_resampled_twostep.index, data_resampled_twostep['Truth'])\n",
    "ax1.set_title('Variation across Time')\n",
    "ax2.plot(data.index, data['Truth'])\n",
    "ax3.plot(data_resampled_twostep.index, data_resampled_twostep['Stream1'], color='r')\n",
    "ax4.plot(data.index, data['Stream1'], color='r')\n",
    "ax5.plot(data_resampled_twostep.index, data_resampled_twostep['Stream2'], color='r')\n",
    "ax6.plot(data.index, data['Stream2'], color='r')\n",
    "ax7.plot(data_resampled_twostep.index, data_resampled_twostep['Stream4'], color='r')\n",
    "ax8.plot(data.index, data['Stream4'], color='r')\n",
    "\n",
    "\n",
    "ax1.set_ylabel('Truth_New')\n",
    "ax2.set_ylabel('Truth')\n",
    "ax3.set_ylabel('Stream 1 New')\n",
    "ax4.set_ylabel('Stream 1')\n",
    "ax5.set_ylabel('Stream 2 New')\n",
    "ax6.set_ylabel('Stream 2')\n",
    "ax7.set_ylabel('Stream 4 New')\n",
    "ax8.set_ylabel('Stream 4')\n",
    "\n",
    "plt.show()"
   ]
  },
  {
   "cell_type": "markdown",
   "metadata": {},
   "source": [
    "##### The two-step resampled series is more smooth, retains the original structure of the series, and removes the spike in Stream 2 at '2016-07-05 20:09:12.048'. Hence, I'm moving forward with the two-step resampled data."
   ]
  },
  {
   "cell_type": "code",
   "execution_count": 15,
   "metadata": {},
   "outputs": [
    {
     "data": {
      "text/html": [
       "<div>\n",
       "<style scoped>\n",
       "    .dataframe tbody tr th:only-of-type {\n",
       "        vertical-align: middle;\n",
       "    }\n",
       "\n",
       "    .dataframe tbody tr th {\n",
       "        vertical-align: top;\n",
       "    }\n",
       "\n",
       "    .dataframe thead th {\n",
       "        text-align: right;\n",
       "    }\n",
       "</style>\n",
       "<table border=\"1\" class=\"dataframe\">\n",
       "  <thead>\n",
       "    <tr style=\"text-align: right;\">\n",
       "      <th></th>\n",
       "      <th>Stream1</th>\n",
       "      <th>Stream2</th>\n",
       "      <th>Stream3</th>\n",
       "      <th>Stream4</th>\n",
       "      <th>Overall</th>\n",
       "      <th>Truth</th>\n",
       "    </tr>\n",
       "    <tr>\n",
       "      <th>Timestamp</th>\n",
       "      <th></th>\n",
       "      <th></th>\n",
       "      <th></th>\n",
       "      <th></th>\n",
       "      <th></th>\n",
       "      <th></th>\n",
       "    </tr>\n",
       "  </thead>\n",
       "  <tbody>\n",
       "    <tr>\n",
       "      <th>2016-07-05 20:01:32.500</th>\n",
       "      <td>0.0</td>\n",
       "      <td>0.0</td>\n",
       "      <td>0.0</td>\n",
       "      <td>0.0</td>\n",
       "      <td>0.0</td>\n",
       "      <td>0.0</td>\n",
       "    </tr>\n",
       "    <tr>\n",
       "      <th>2016-07-05 20:01:32.750</th>\n",
       "      <td>0.0</td>\n",
       "      <td>0.0</td>\n",
       "      <td>0.0</td>\n",
       "      <td>0.0</td>\n",
       "      <td>0.0</td>\n",
       "      <td>0.0</td>\n",
       "    </tr>\n",
       "    <tr>\n",
       "      <th>2016-07-05 20:01:33.000</th>\n",
       "      <td>0.0</td>\n",
       "      <td>0.0</td>\n",
       "      <td>0.0</td>\n",
       "      <td>0.0</td>\n",
       "      <td>0.0</td>\n",
       "      <td>0.0</td>\n",
       "    </tr>\n",
       "    <tr>\n",
       "      <th>2016-07-05 20:01:33.250</th>\n",
       "      <td>0.0</td>\n",
       "      <td>0.0</td>\n",
       "      <td>0.0</td>\n",
       "      <td>0.0</td>\n",
       "      <td>0.0</td>\n",
       "      <td>0.0</td>\n",
       "    </tr>\n",
       "    <tr>\n",
       "      <th>2016-07-05 20:01:33.500</th>\n",
       "      <td>0.0</td>\n",
       "      <td>0.0</td>\n",
       "      <td>0.0</td>\n",
       "      <td>0.0</td>\n",
       "      <td>0.0</td>\n",
       "      <td>0.0</td>\n",
       "    </tr>\n",
       "  </tbody>\n",
       "</table>\n",
       "</div>"
      ],
      "text/plain": [
       "                         Stream1  Stream2  Stream3  Stream4  Overall  Truth\n",
       "Timestamp                                                                  \n",
       "2016-07-05 20:01:32.500      0.0      0.0      0.0      0.0      0.0    0.0\n",
       "2016-07-05 20:01:32.750      0.0      0.0      0.0      0.0      0.0    0.0\n",
       "2016-07-05 20:01:33.000      0.0      0.0      0.0      0.0      0.0    0.0\n",
       "2016-07-05 20:01:33.250      0.0      0.0      0.0      0.0      0.0    0.0\n",
       "2016-07-05 20:01:33.500      0.0      0.0      0.0      0.0      0.0    0.0"
      ]
     },
     "execution_count": 15,
     "metadata": {},
     "output_type": "execute_result"
    }
   ],
   "source": [
    "# Extracting the two-step resampled series into a new dataframe and removing the first datapoint (Since it had null values for all features)\n",
    "temp = data.resample('ms').ffill().interpolate()\n",
    "TS_Data = temp.resample('0.25S').ffill()[1:]\n",
    "TS_Data.head()"
   ]
  },
  {
   "cell_type": "markdown",
   "metadata": {},
   "source": [
    "### Feature Engineering"
   ]
  },
  {
   "cell_type": "code",
   "execution_count": 16,
   "metadata": {},
   "outputs": [],
   "source": [
    "# Function for Adding lags to the features\n",
    "def add_lags(data, n_in=1, dropnan=True):\n",
    "    \"\"\"\n",
    "    Creates new dataframe that includes lags for each of the features\n",
    "    Arguments:\n",
    "      data: Original DataFrame with the features that require lags\n",
    "      n_in: Number of lag observations \n",
    "      dropnan: Boolean whether or not to drop rows with NaN values\n",
    "    Returns:\n",
    "      Pandas DataFrame with features along with their lagged versions\n",
    "    \"\"\"\n",
    "    n_vars = 1 if type(data) is list else data.shape[1]\n",
    "    df = pd.DataFrame(data)\n",
    "    cols, names = list(), list()\n",
    "    # input sequence (t-n, ... t-1)\n",
    "    for i in range(n_in, 0, -1):\n",
    "        cols.append(df.shift(i))\n",
    "        names += [('%s(t-%d)' % (j, i)) for j in df.columns]\n",
    "    agg = pd.concat(cols, axis=1)\n",
    "    agg.columns = names\n",
    "    agg_final = pd.concat([data,agg], axis=1)\n",
    "    # drop rows with NaN values\n",
    "    if dropnan:\n",
    "        agg_final.dropna(inplace=True)\n",
    "    return agg_final"
   ]
  },
  {
   "cell_type": "code",
   "execution_count": 17,
   "metadata": {},
   "outputs": [],
   "source": [
    "# Calling the function for Adding lags to the features\n",
    "data_ARDL = add_lags(TS_Data.drop(['Overall','Stream3'],axis=1), n_in=4,dropnan=True)"
   ]
  },
  {
   "cell_type": "code",
   "execution_count": 18,
   "metadata": {
    "scrolled": true
   },
   "outputs": [],
   "source": [
    "# Adding Rolling Window Statistics to the data\n",
    "window = TS_Data.drop(['Overall','Stream3'],axis=1).rolling(window=20)\n",
    "maximum_vals = window.sum()\n",
    "maximum_vals.columns = ['Stream1_roll', 'Stream2_roll', 'Stream4_roll', 'Truth_roll']\n",
    "maximum_vals.dropna(inplace=True)\n",
    "\n",
    "# Merging the Rolling window statistic with the Distributed-lag data\n",
    "data_final = pd.concat([data_ARDL,maximum_vals],axis=1)\n",
    "data_final.dropna(inplace=True)"
   ]
  },
  {
   "cell_type": "code",
   "execution_count": 19,
   "metadata": {},
   "outputs": [],
   "source": [
    "# Extracting the Target variable from the data\n",
    "y = data_final[['Truth']]\n",
    "\n",
    "# Extracting the relevant features after removing the Traget and constant-feature\n",
    "X = data_final.drop('Truth',axis=1)"
   ]
  },
  {
   "cell_type": "code",
   "execution_count": 20,
   "metadata": {},
   "outputs": [
    {
     "data": {
      "text/plain": [
       "0"
      ]
     },
     "execution_count": 20,
     "metadata": {},
     "output_type": "execute_result"
    }
   ],
   "source": [
    "# Checking for duplicated features after feature engineering\n",
    "duplicated_feat = []\n",
    "for i in range(0, len(X.columns)): \n",
    "    col_1 = X.columns[i]\n",
    " \n",
    "    for col_2 in X.columns[i + 1:]:\n",
    "        if X[col_1].equals(X[col_2]):\n",
    "            duplicated_feat.append(col_2)\n",
    "            \n",
    "len(duplicated_feat)"
   ]
  },
  {
   "cell_type": "code",
   "execution_count": 21,
   "metadata": {},
   "outputs": [
    {
     "data": {
      "text/plain": [
       "<matplotlib.axes._subplots.AxesSubplot at 0x1e51eb27e10>"
      ]
     },
     "execution_count": 21,
     "metadata": {},
     "output_type": "execute_result"
    },
    {
     "data": {
      "image/png": "[encoded data removed]",
      "text/plain": [
       "<Figure size 1440x576 with 1 Axes>"
      ]
     },
     "metadata": {},
     "output_type": "display_data"
    }
   ],
   "source": [
    "# find important features using univariate roc-auc\n",
    " \n",
    "# loop to build a tree, make predictions and get the roc-auc\n",
    "# for each feature of the train set\n",
    "X_train = X[0:2008]\n",
    "y_train =y[0:2008]\n",
    "X_test = X[2009:3012]\n",
    "y_test = y[2009:3012]\n",
    "roc_values = []\n",
    "for feature in X_train.columns:\n",
    "    clf = DecisionTreeClassifier()\n",
    "    clf.fit(X_train[feature].fillna(0).to_frame(), y_train)\n",
    "    y_scored = clf.predict_proba(X_test[feature].fillna(0).to_frame())\n",
    "    roc_values.append(roc_auc_score(y_test, y_scored[:, 1]))\n",
    "    \n",
    "# let's add the variable names and order it for clearer visualisation\n",
    "roc_values = pd.Series(roc_values)\n",
    "roc_values.index = X_train.columns\n",
    "roc_values.sort_values(ascending=False).plot.bar(figsize=(20, 8))"
   ]
  },
  {
   "cell_type": "code",
   "execution_count": 22,
   "metadata": {},
   "outputs": [
    {
     "data": {
      "text/plain": [
       "Stream1         0.536585\n",
       "Stream1(t-4)    0.533716\n",
       "Stream1(t-3)    0.534433\n",
       "Stream1(t-2)    0.535151\n",
       "Stream1(t-1)    0.535868\n",
       "Stream1_roll    0.536585\n",
       "dtype: float64"
      ]
     },
     "execution_count": 22,
     "metadata": {},
     "output_type": "execute_result"
    }
   ],
   "source": [
    "roc_values[roc_values<=0.6]"
   ]
  },
  {
   "cell_type": "markdown",
   "metadata": {},
   "source": [
    "#### The predictive capacity of Data from Stream-1, along with its lags and rolling statistic, is quite low according to the univariate roc-auc. We will keep an eye on these features as we go through the analysis."
   ]
  },
  {
   "cell_type": "markdown",
   "metadata": {},
   "source": [
    "### Modeling"
   ]
  },
  {
   "cell_type": "code",
   "execution_count": 23,
   "metadata": {},
   "outputs": [
    {
     "name": "stdout",
     "output_type": "stream",
     "text": [
      "Accuracy of the Baseline model: 0.7255187477247906\n"
     ]
    }
   ],
   "source": [
    "# Baseline model: Predict every value as 1\n",
    "print(\"Accuracy of the Baseline model: \" + str(len(data[data['Truth']==1].index)/len(data.index)))"
   ]
  },
  {
   "cell_type": "code",
   "execution_count": 24,
   "metadata": {},
   "outputs": [],
   "source": [
    "# Function for Time-Series Cross validation\n",
    "def TS_CrossVal(num_splits, X, y, classifier):\n",
    "    \"\"\"\n",
    "    Prints out the Mean accuracy score and the mean AUC score for the given classifier after Time-series crossvalidation\n",
    "    Arguments:\n",
    "      num_splits: Number of splits to be used by the TimeSeriesSplit crossvalidation object\n",
    "      X: Explanatory variables\n",
    "      y: Dependent variable\n",
    "      classifier: The classifier object instantiated using the required parameters\n",
    "    Returns:\n",
    "      No return value\n",
    "    \"\"\"\n",
    "    # Create time-series cross-validation object\n",
    "    tscv = TimeSeriesSplit(n_splits=num_splits)\n",
    "    scores_cv = list()\n",
    "    auc_scores = list()\n",
    "    \n",
    "    for train_index, test_index in tscv.split(X):\n",
    "        X_train, X_test = X[min(train_index):max(train_index)], X[min(test_index):max(test_index)]\n",
    "        y_train, y_test = y[min(train_index):max(train_index)], y[min(test_index):max(test_index)]\n",
    "        clf = classifier.fit(X_train.values, y_train.values.ravel())\n",
    "        scores_cv.append(clf.score(X_test,y_test))\n",
    "        y_scores_clf = clf.decision_function(X_test.values)\n",
    "        fpr_clf, tpr_clf, _ = roc_curve(y_test.values, y_scores_clf)\n",
    "        roc_auc_clf = auc(fpr_clf, tpr_clf)\n",
    "        auc_scores.append(roc_auc_clf)\n",
    "    \n",
    "    print(\"The mean score of the Classifier is: \" + str(np.mean(scores_cv))) \n",
    "    print(\"The mean Area under the ROC curve of the classifier is: \" + str(np.nanmean(auc_scores)))"
   ]
  },
  {
   "cell_type": "code",
   "execution_count": 25,
   "metadata": {},
   "outputs": [],
   "source": [
    "# Function for building an ROC curve\n",
    "def plot_roc(clf,y_test,X_test,y_train,X_train):\n",
    "    \"\"\"\n",
    "    Building and plotting the ROC curve for Classification algorithms\n",
    "    Arguments:\n",
    "      clf: Instance of the Classifier\n",
    "      y_test: Test set of the dependent variable\n",
    "      X_test: Test set of the independent variables\n",
    "      y_train: Training set of the dependent variable\n",
    "      X_train: Training set of the independent variables\n",
    "    Returns:\n",
    "      No return value\n",
    "    \"\"\"\n",
    "    clf_roc_auc = roc_auc_score(y_test, clf.predict(X_test))\n",
    "    fpr, tpr, thresholds = roc_curve(y_test, clf.predict_proba(X_test)[:,1])\n",
    "    plt.figure()\n",
    "    plt.plot(fpr, tpr, label='Classifier (area = %0.2f)' % clf_roc_auc)\n",
    "    plt.plot([0, 1], [0, 1],'r--')\n",
    "    plt.xlim([0.0, 1.0])\n",
    "    plt.ylim([0.0, 1.05])\n",
    "    plt.xlabel('False Positive Rate')\n",
    "    plt.ylabel('True Positive Rate')\n",
    "    plt.title('Receiver operating characteristic')\n",
    "    plt.legend(loc=\"lower right\")\n",
    "    plt.show()"
   ]
  },
  {
   "cell_type": "markdown",
   "metadata": {},
   "source": [
    "### Logistic Regression"
   ]
  },
  {
   "cell_type": "code",
   "execution_count": 26,
   "metadata": {
    "scrolled": true
   },
   "outputs": [
    {
     "data": {
      "text/html": [
       "<table class=\"simpletable\">\n",
       "<caption>Logit Regression Results</caption>\n",
       "<tr>\n",
       "  <th>Dep. Variable:</th>         <td>y</td>        <th>  No. Observations:  </th>  <td>  4017</td> \n",
       "</tr>\n",
       "<tr>\n",
       "  <th>Model:</th>               <td>Logit</td>      <th>  Df Residuals:      </th>  <td>  3993</td> \n",
       "</tr>\n",
       "<tr>\n",
       "  <th>Method:</th>               <td>MLE</td>       <th>  Df Model:          </th>  <td>    23</td> \n",
       "</tr>\n",
       "<tr>\n",
       "  <th>Date:</th>          <td>Sun, 07 Apr 2019</td> <th>  Pseudo R-squ.:     </th>  <td>0.9878</td> \n",
       "</tr>\n",
       "<tr>\n",
       "  <th>Time:</th>              <td>16:11:58</td>     <th>  Log-Likelihood:    </th> <td> -28.622</td>\n",
       "</tr>\n",
       "<tr>\n",
       "  <th>converged:</th>           <td>True</td>       <th>  LL-Null:           </th> <td> -2346.3</td>\n",
       "</tr>\n",
       "<tr>\n",
       "  <th> </th>                      <td> </td>        <th>  LLR p-value:       </th>  <td> 0.000</td> \n",
       "</tr>\n",
       "</table>\n",
       "<table class=\"simpletable\">\n",
       "<tr>\n",
       "        <td></td>          <th>coef</th>     <th>std err</th>      <th>z</th>      <th>P>|z|</th>  <th>[0.025</th>    <th>0.975]</th>  \n",
       "</tr>\n",
       "<tr>\n",
       "  <th>const</th>        <td>   -6.3760</td> <td>    0.727</td> <td>   -8.766</td> <td> 0.000</td> <td>   -7.801</td> <td>   -4.950</td>\n",
       "</tr>\n",
       "<tr>\n",
       "  <th>Stream1</th>      <td>    0.0818</td> <td>   37.328</td> <td>    0.002</td> <td> 0.998</td> <td>  -73.081</td> <td>   73.244</td>\n",
       "</tr>\n",
       "<tr>\n",
       "  <th>Stream2</th>      <td>    0.1406</td> <td>   28.880</td> <td>    0.005</td> <td> 0.996</td> <td>  -56.463</td> <td>   56.745</td>\n",
       "</tr>\n",
       "<tr>\n",
       "  <th>Stream4</th>      <td>    0.2950</td> <td>   13.826</td> <td>    0.021</td> <td> 0.983</td> <td>  -26.804</td> <td>   27.393</td>\n",
       "</tr>\n",
       "<tr>\n",
       "  <th>Stream1(t-4)</th> <td>    0.0228</td> <td>  407.481</td> <td>  5.6e-05</td> <td> 1.000</td> <td> -798.625</td> <td>  798.671</td>\n",
       "</tr>\n",
       "<tr>\n",
       "  <th>Stream2(t-4)</th> <td>    0.0351</td> <td>  150.089</td> <td>    0.000</td> <td> 1.000</td> <td> -294.134</td> <td>  294.205</td>\n",
       "</tr>\n",
       "<tr>\n",
       "  <th>Stream4(t-4)</th> <td>    0.0230</td> <td>   57.634</td> <td>    0.000</td> <td> 1.000</td> <td> -112.938</td> <td>  112.984</td>\n",
       "</tr>\n",
       "<tr>\n",
       "  <th>Truth(t-4)</th>   <td>   -3.2870</td> <td>   18.385</td> <td>   -0.179</td> <td> 0.858</td> <td>  -39.320</td> <td>   32.746</td>\n",
       "</tr>\n",
       "<tr>\n",
       "  <th>Stream1(t-3)</th> <td>    0.0270</td> <td>  266.100</td> <td>    0.000</td> <td> 1.000</td> <td> -521.519</td> <td>  521.573</td>\n",
       "</tr>\n",
       "<tr>\n",
       "  <th>Stream2(t-3)</th> <td>    0.0433</td> <td>  127.328</td> <td>    0.000</td> <td> 1.000</td> <td> -249.516</td> <td>  249.602</td>\n",
       "</tr>\n",
       "<tr>\n",
       "  <th>Stream4(t-3)</th> <td>    0.0294</td> <td>   43.368</td> <td>    0.001</td> <td> 0.999</td> <td>  -84.969</td> <td>   85.028</td>\n",
       "</tr>\n",
       "<tr>\n",
       "  <th>Truth(t-3)</th>   <td>   -2.1160</td> <td>   52.016</td> <td>   -0.041</td> <td> 0.968</td> <td> -104.064</td> <td>   99.833</td>\n",
       "</tr>\n",
       "<tr>\n",
       "  <th>Stream1(t-2)</th> <td>    0.0350</td> <td>  148.217</td> <td>    0.000</td> <td> 1.000</td> <td> -290.465</td> <td>  290.535</td>\n",
       "</tr>\n",
       "<tr>\n",
       "  <th>Stream2(t-2)</th> <td>    0.0590</td> <td>   82.134</td> <td>    0.001</td> <td> 0.999</td> <td> -160.921</td> <td>  161.040</td>\n",
       "</tr>\n",
       "<tr>\n",
       "  <th>Stream4(t-2)</th> <td>    0.0532</td> <td>   29.875</td> <td>    0.002</td> <td> 0.999</td> <td>  -58.500</td> <td>   58.607</td>\n",
       "</tr>\n",
       "<tr>\n",
       "  <th>Truth(t-2)</th>   <td>   -0.8226</td> <td>   83.800</td> <td>   -0.010</td> <td> 0.992</td> <td> -165.068</td> <td>  163.423</td>\n",
       "</tr>\n",
       "<tr>\n",
       "  <th>Stream1(t-1)</th> <td>    0.0501</td> <td>   79.901</td> <td>    0.001</td> <td> 0.999</td> <td> -156.552</td> <td>  156.652</td>\n",
       "</tr>\n",
       "<tr>\n",
       "  <th>Stream2(t-1)</th> <td>    0.0881</td> <td>   52.102</td> <td>    0.002</td> <td> 0.999</td> <td> -102.030</td> <td>  102.206</td>\n",
       "</tr>\n",
       "<tr>\n",
       "  <th>Stream4(t-1)</th> <td>    0.1292</td> <td>   17.844</td> <td>    0.007</td> <td> 0.994</td> <td>  -34.845</td> <td>   35.103</td>\n",
       "</tr>\n",
       "<tr>\n",
       "  <th>Truth(t-1)</th>   <td>   15.8389</td> <td>   68.190</td> <td>    0.232</td> <td> 0.816</td> <td> -117.810</td> <td>  149.488</td>\n",
       "</tr>\n",
       "<tr>\n",
       "  <th>Stream1_roll</th> <td>    1.1250</td> <td>    8.690</td> <td>    0.129</td> <td> 0.897</td> <td>  -15.907</td> <td>   18.157</td>\n",
       "</tr>\n",
       "<tr>\n",
       "  <th>Stream2_roll</th> <td>    0.8926</td> <td>   10.941</td> <td>    0.082</td> <td> 0.935</td> <td>  -20.552</td> <td>   22.337</td>\n",
       "</tr>\n",
       "<tr>\n",
       "  <th>Stream4_roll</th> <td>    0.9100</td> <td>    7.871</td> <td>    0.116</td> <td> 0.908</td> <td>  -14.517</td> <td>   16.337</td>\n",
       "</tr>\n",
       "<tr>\n",
       "  <th>Truth_roll</th>   <td>    0.1499</td> <td>    0.150</td> <td>    1.000</td> <td> 0.317</td> <td>   -0.144</td> <td>    0.444</td>\n",
       "</tr>\n",
       "</table><br/><br/>Possibly complete quasi-separation: A fraction 0.48 of observations can be<br/>perfectly predicted. This might indicate that there is complete<br/>quasi-separation. In this case some parameters will not be identified."
      ],
      "text/plain": [
       "<class 'statsmodels.iolib.summary.Summary'>\n",
       "\"\"\"\n",
       "                           Logit Regression Results                           \n",
       "==============================================================================\n",
       "Dep. Variable:                      y   No. Observations:                 4017\n",
       "Model:                          Logit   Df Residuals:                     3993\n",
       "Method:                           MLE   Df Model:                           23\n",
       "Date:                Sun, 07 Apr 2019   Pseudo R-squ.:                  0.9878\n",
       "Time:                        16:11:58   Log-Likelihood:                -28.622\n",
       "converged:                       True   LL-Null:                       -2346.3\n",
       "                                        LLR p-value:                     0.000\n",
       "================================================================================\n",
       "                   coef    std err          z      P>|z|      [0.025      0.975]\n",
       "--------------------------------------------------------------------------------\n",
       "const           -6.3760      0.727     -8.766      0.000      -7.801      -4.950\n",
       "Stream1          0.0818     37.328      0.002      0.998     -73.081      73.244\n",
       "Stream2          0.1406     28.880      0.005      0.996     -56.463      56.745\n",
       "Stream4          0.2950     13.826      0.021      0.983     -26.804      27.393\n",
       "Stream1(t-4)     0.0228    407.481    5.6e-05      1.000    -798.625     798.671\n",
       "Stream2(t-4)     0.0351    150.089      0.000      1.000    -294.134     294.205\n",
       "Stream4(t-4)     0.0230     57.634      0.000      1.000    -112.938     112.984\n",
       "Truth(t-4)      -3.2870     18.385     -0.179      0.858     -39.320      32.746\n",
       "Stream1(t-3)     0.0270    266.100      0.000      1.000    -521.519     521.573\n",
       "Stream2(t-3)     0.0433    127.328      0.000      1.000    -249.516     249.602\n",
       "Stream4(t-3)     0.0294     43.368      0.001      0.999     -84.969      85.028\n",
       "Truth(t-3)      -2.1160     52.016     -0.041      0.968    -104.064      99.833\n",
       "Stream1(t-2)     0.0350    148.217      0.000      1.000    -290.465     290.535\n",
       "Stream2(t-2)     0.0590     82.134      0.001      0.999    -160.921     161.040\n",
       "Stream4(t-2)     0.0532     29.875      0.002      0.999     -58.500      58.607\n",
       "Truth(t-2)      -0.8226     83.800     -0.010      0.992    -165.068     163.423\n",
       "Stream1(t-1)     0.0501     79.901      0.001      0.999    -156.552     156.652\n",
       "Stream2(t-1)     0.0881     52.102      0.002      0.999    -102.030     102.206\n",
       "Stream4(t-1)     0.1292     17.844      0.007      0.994     -34.845      35.103\n",
       "Truth(t-1)      15.8389     68.190      0.232      0.816    -117.810     149.488\n",
       "Stream1_roll     1.1250      8.690      0.129      0.897     -15.907      18.157\n",
       "Stream2_roll     0.8926     10.941      0.082      0.935     -20.552      22.337\n",
       "Stream4_roll     0.9100      7.871      0.116      0.908     -14.517      16.337\n",
       "Truth_roll       0.1499      0.150      1.000      0.317      -0.144       0.444\n",
       "================================================================================\n",
       "\n",
       "Possibly complete quasi-separation: A fraction 0.48 of observations can be\n",
       "perfectly predicted. This might indicate that there is complete\n",
       "quasi-separation. In this case some parameters will not be identified.\n",
       "\"\"\""
      ]
     },
     "execution_count": 26,
     "metadata": {},
     "output_type": "execute_result"
    }
   ],
   "source": [
    "# Logistic Regression\n",
    "sm_model = sm.Logit(y.values.ravel(), sm.add_constant(X.values)).fit(disp=0,method='bfgs',maxiter=100)\n",
    "var_names = list()\n",
    "var_names.append('const')\n",
    "for i in X.columns:\n",
    "    var_names.append(i)\n",
    "sm_model.summary(xname=var_names)"
   ]
  },
  {
   "cell_type": "markdown",
   "metadata": {},
   "source": [
    "#### Even though the features show low statistical significance, the model is able to predict the behaviour of the dependent variable with high accuracy (probably due to quasicomplete separation caused by Truth(t-1); this notebook does not rectify this problem)."
   ]
  },
  {
   "cell_type": "code",
   "execution_count": 27,
   "metadata": {},
   "outputs": [
    {
     "name": "stdout",
     "output_type": "stream",
     "text": [
      "Fitting 3 folds for each of 10 candidates, totalling 30 fits\n"
     ]
    },
    {
     "name": "stderr",
     "output_type": "stream",
     "text": [
      "[Parallel(n_jobs=1)]: Done  30 out of  30 | elapsed:   21.4s finished\n"
     ]
    },
    {
     "data": {
      "text/plain": [
       "(1.0, {'C': 0.01})"
      ]
     },
     "execution_count": 27,
     "metadata": {},
     "output_type": "execute_result"
    }
   ],
   "source": [
    "# Instantiating the LogisticRegression class with 'sag' solver and max_iter=5000\n",
    "clf = LogisticRegression(random_state=0, solver='sag',max_iter=5000)\n",
    "\n",
    "# Instantiating the TimeSeriesSplit class\n",
    "time_split = TimeSeriesSplit(n_splits=3)\n",
    "\n",
    "# Using grid-search to find the best value for regularization parameter\n",
    "c_values = np.logspace(-2, 2, 10)\n",
    "logit_grid_searcher = GridSearchCV(estimator=clf, param_grid={'C': c_values}, scoring='roc_auc', n_jobs=1, cv=time_split, verbose=1)\n",
    "logit_grid_searcher.fit(X, y)\n",
    "logit_grid_searcher.best_score_, logit_grid_searcher.best_params_"
   ]
  },
  {
   "cell_type": "code",
   "execution_count": 28,
   "metadata": {},
   "outputs": [],
   "source": [
    "# Instantiating the LogisticRegression class with updated parameters \n",
    "clf_updated = LogisticRegression(random_state=0, solver='sag',max_iter=5000,C=0.01)"
   ]
  },
  {
   "cell_type": "code",
   "execution_count": 29,
   "metadata": {},
   "outputs": [
    {
     "name": "stdout",
     "output_type": "stream",
     "text": [
      "The mean score of the Classifier is: 0.9909340659340659\n",
      "The mean Area under the ROC curve of the classifier is: 1.0\n"
     ]
    }
   ],
   "source": [
    "# Checking the performance of the Classifier using Time Series Cross validation\n",
    "TS_CrossVal(10,X,y,clf_updated)"
   ]
  },
  {
   "cell_type": "code",
   "execution_count": 30,
   "metadata": {},
   "outputs": [
    {
     "data": {
      "text/plain": [
       "[('Truth_roll', 0.45730437098546395),\n",
       " ('Truth(t-1)', 0.1764050804017458),\n",
       " ('Truth(t-2)', 0.14728354182587874),\n",
       " ('Stream4_roll', 0.12018980131550737),\n",
       " ('Truth(t-3)', 0.11884797244602961),\n",
       " ('Truth(t-4)', 0.09150950339824399),\n",
       " ('Stream1_roll', 0.08324339735730314),\n",
       " ('Stream2_roll', 0.07802590662762375),\n",
       " ('Stream4', 0.021846956477247804),\n",
       " ('Stream4(t-1)', 0.015440717402529535),\n",
       " ('Stream4(t-2)', 0.01085032355253856),\n",
       " ('Stream4(t-3)', 0.007832546553653882),\n",
       " ('Stream4(t-4)', 0.005994559278972701),\n",
       " ('Stream1', 0.004631135575606907),\n",
       " ('Stream1(t-1)', 0.00430093372035791),\n",
       " ('Stream2', 0.004219543394739278),\n",
       " ('Stream2(t-1)', 0.0041590977585519865),\n",
       " ('Stream1(t-2)', 0.0041159828101169),\n",
       " ('Stream2(t-2)', 0.0041041137988522105),\n",
       " ('Stream2(t-3)', 0.004054021953428711),\n",
       " ('Stream1(t-3)', 0.004012281000072222),\n",
       " ('Stream2(t-4)', 0.004008580452951548),\n",
       " ('Stream1(t-4)', 0.0039554912889101)]"
      ]
     },
     "execution_count": 30,
     "metadata": {},
     "output_type": "execute_result"
    }
   ],
   "source": [
    "# Exploring the importance of each variable solely based on the value of the coefficients (Not based on statistical significance test)\n",
    "Coef_Importance = [(i,j) for i,j in zip(X.columns.tolist(),clf_updated.coef_[0])]\n",
    "sorted(Coef_Importance, key=lambda x: x[1],reverse=True)"
   ]
  },
  {
   "cell_type": "markdown",
   "metadata": {},
   "source": [
    "#### Even from the Coefficients of the Logistic Regression model it is evident that the predictive capacity of Data from Stream-1, along with its lags and rolling statistic, is quite low"
   ]
  },
  {
   "cell_type": "code",
   "execution_count": 31,
   "metadata": {},
   "outputs": [
    {
     "data": {
      "image/png": "[encoded data removed]",
      "text/plain": [
       "<Figure size 432x288 with 1 Axes>"
      ]
     },
     "metadata": {},
     "output_type": "display_data"
    }
   ],
   "source": [
    "# Splitting the data into Train and Test in order to visualize the ROC curve\n",
    "X_train = X[0:2008]\n",
    "y_train =y[0:2008]\n",
    "X_test = X[2009:3012]\n",
    "y_test = y[2009:3012]\n",
    "\n",
    "# Calling the function for building an ROC curve\n",
    "plot_roc(clf_updated,y_test,X_test,y_train,X_train)"
   ]
  },
  {
   "cell_type": "code",
   "execution_count": 52,
   "metadata": {},
   "outputs": [
    {
     "data": {
      "image/png": "[encoded data removed]",
      "text/plain": [
       "<Figure size 1440x720 with 2 Axes>"
      ]
     },
     "metadata": {},
     "output_type": "display_data"
    }
   ],
   "source": [
    "# Making predictions using the updated Logistic Regression Model\n",
    "predictions_logit = clf_updated.predict(X_test)\n",
    "\n",
    "# Plotting the predictions vs the 'Truth'\n",
    "f, (ax1, ax2) = plt.subplots(2, sharex=True, sharey=True,figsize=(20,10))\n",
    "ax1.plot(X_test.index, predictions_logit)\n",
    "ax1.set_title('Variation across Time')\n",
    "ax2.plot(X_test.index, y_test)\n",
    "ax1.set_ylabel('Predictions')\n",
    "ax2.set_ylabel('Truth')\n",
    "plt.show()"
   ]
  },
  {
   "cell_type": "code",
   "execution_count": 58,
   "metadata": {
    "scrolled": true
   },
   "outputs": [
    {
     "data": {
      "text/html": [
       "<div>\n",
       "<style scoped>\n",
       "    .dataframe tbody tr th:only-of-type {\n",
       "        vertical-align: middle;\n",
       "    }\n",
       "\n",
       "    .dataframe tbody tr th {\n",
       "        vertical-align: top;\n",
       "    }\n",
       "\n",
       "    .dataframe thead th {\n",
       "        text-align: right;\n",
       "    }\n",
       "</style>\n",
       "<table border=\"1\" class=\"dataframe\">\n",
       "  <thead>\n",
       "    <tr style=\"text-align: right;\">\n",
       "      <th></th>\n",
       "      <th>Stream1</th>\n",
       "      <th>Stream2</th>\n",
       "      <th>Stream4</th>\n",
       "      <th>Stream1(t-4)</th>\n",
       "      <th>Stream2(t-4)</th>\n",
       "      <th>Stream4(t-4)</th>\n",
       "      <th>Truth(t-4)</th>\n",
       "      <th>Stream1(t-3)</th>\n",
       "      <th>Stream2(t-3)</th>\n",
       "      <th>Stream4(t-3)</th>\n",
       "      <th>...</th>\n",
       "      <th>Stream4(t-2)</th>\n",
       "      <th>Truth(t-2)</th>\n",
       "      <th>Stream1(t-1)</th>\n",
       "      <th>Stream2(t-1)</th>\n",
       "      <th>Stream4(t-1)</th>\n",
       "      <th>Truth(t-1)</th>\n",
       "      <th>Stream1_roll</th>\n",
       "      <th>Stream2_roll</th>\n",
       "      <th>Stream4_roll</th>\n",
       "      <th>Truth_roll</th>\n",
       "    </tr>\n",
       "    <tr>\n",
       "      <th>Timestamp</th>\n",
       "      <th></th>\n",
       "      <th></th>\n",
       "      <th></th>\n",
       "      <th></th>\n",
       "      <th></th>\n",
       "      <th></th>\n",
       "      <th></th>\n",
       "      <th></th>\n",
       "      <th></th>\n",
       "      <th></th>\n",
       "      <th></th>\n",
       "      <th></th>\n",
       "      <th></th>\n",
       "      <th></th>\n",
       "      <th></th>\n",
       "      <th></th>\n",
       "      <th></th>\n",
       "      <th></th>\n",
       "      <th></th>\n",
       "      <th></th>\n",
       "      <th></th>\n",
       "    </tr>\n",
       "  </thead>\n",
       "  <tbody>\n",
       "    <tr>\n",
       "      <th>2016-07-05 20:11:16.000</th>\n",
       "      <td>0.0</td>\n",
       "      <td>0.0</td>\n",
       "      <td>0.0</td>\n",
       "      <td>0.0</td>\n",
       "      <td>0.0</td>\n",
       "      <td>0.0</td>\n",
       "      <td>0.0</td>\n",
       "      <td>0.0</td>\n",
       "      <td>0.0</td>\n",
       "      <td>0.0</td>\n",
       "      <td>...</td>\n",
       "      <td>0.0</td>\n",
       "      <td>0.0</td>\n",
       "      <td>0.0</td>\n",
       "      <td>0.0</td>\n",
       "      <td>0.0</td>\n",
       "      <td>0.0</td>\n",
       "      <td>0.0</td>\n",
       "      <td>0.0</td>\n",
       "      <td>0.0</td>\n",
       "      <td>1.0</td>\n",
       "    </tr>\n",
       "    <tr>\n",
       "      <th>2016-07-05 20:11:16.250</th>\n",
       "      <td>0.0</td>\n",
       "      <td>0.0</td>\n",
       "      <td>0.0</td>\n",
       "      <td>0.0</td>\n",
       "      <td>0.0</td>\n",
       "      <td>0.0</td>\n",
       "      <td>0.0</td>\n",
       "      <td>0.0</td>\n",
       "      <td>0.0</td>\n",
       "      <td>0.0</td>\n",
       "      <td>...</td>\n",
       "      <td>0.0</td>\n",
       "      <td>0.0</td>\n",
       "      <td>0.0</td>\n",
       "      <td>0.0</td>\n",
       "      <td>0.0</td>\n",
       "      <td>1.0</td>\n",
       "      <td>0.0</td>\n",
       "      <td>0.0</td>\n",
       "      <td>0.0</td>\n",
       "      <td>2.0</td>\n",
       "    </tr>\n",
       "    <tr>\n",
       "      <th>2016-07-05 20:11:16.500</th>\n",
       "      <td>0.0</td>\n",
       "      <td>0.0</td>\n",
       "      <td>0.0</td>\n",
       "      <td>0.0</td>\n",
       "      <td>0.0</td>\n",
       "      <td>0.0</td>\n",
       "      <td>0.0</td>\n",
       "      <td>0.0</td>\n",
       "      <td>0.0</td>\n",
       "      <td>0.0</td>\n",
       "      <td>...</td>\n",
       "      <td>0.0</td>\n",
       "      <td>1.0</td>\n",
       "      <td>0.0</td>\n",
       "      <td>0.0</td>\n",
       "      <td>0.0</td>\n",
       "      <td>1.0</td>\n",
       "      <td>0.0</td>\n",
       "      <td>0.0</td>\n",
       "      <td>0.0</td>\n",
       "      <td>3.0</td>\n",
       "    </tr>\n",
       "    <tr>\n",
       "      <th>2016-07-05 20:11:16.750</th>\n",
       "      <td>0.0</td>\n",
       "      <td>0.0</td>\n",
       "      <td>0.0</td>\n",
       "      <td>0.0</td>\n",
       "      <td>0.0</td>\n",
       "      <td>0.0</td>\n",
       "      <td>0.0</td>\n",
       "      <td>0.0</td>\n",
       "      <td>0.0</td>\n",
       "      <td>0.0</td>\n",
       "      <td>...</td>\n",
       "      <td>0.0</td>\n",
       "      <td>1.0</td>\n",
       "      <td>0.0</td>\n",
       "      <td>0.0</td>\n",
       "      <td>0.0</td>\n",
       "      <td>1.0</td>\n",
       "      <td>0.0</td>\n",
       "      <td>0.0</td>\n",
       "      <td>0.0</td>\n",
       "      <td>4.0</td>\n",
       "    </tr>\n",
       "    <tr>\n",
       "      <th>2016-07-05 20:11:17.000</th>\n",
       "      <td>0.0</td>\n",
       "      <td>0.0</td>\n",
       "      <td>0.0</td>\n",
       "      <td>0.0</td>\n",
       "      <td>0.0</td>\n",
       "      <td>0.0</td>\n",
       "      <td>1.0</td>\n",
       "      <td>0.0</td>\n",
       "      <td>0.0</td>\n",
       "      <td>0.0</td>\n",
       "      <td>...</td>\n",
       "      <td>0.0</td>\n",
       "      <td>1.0</td>\n",
       "      <td>0.0</td>\n",
       "      <td>0.0</td>\n",
       "      <td>0.0</td>\n",
       "      <td>1.0</td>\n",
       "      <td>0.0</td>\n",
       "      <td>0.0</td>\n",
       "      <td>0.0</td>\n",
       "      <td>5.0</td>\n",
       "    </tr>\n",
       "    <tr>\n",
       "      <th>2016-07-05 20:11:17.250</th>\n",
       "      <td>0.0</td>\n",
       "      <td>0.0</td>\n",
       "      <td>0.0</td>\n",
       "      <td>0.0</td>\n",
       "      <td>0.0</td>\n",
       "      <td>0.0</td>\n",
       "      <td>1.0</td>\n",
       "      <td>0.0</td>\n",
       "      <td>0.0</td>\n",
       "      <td>0.0</td>\n",
       "      <td>...</td>\n",
       "      <td>0.0</td>\n",
       "      <td>1.0</td>\n",
       "      <td>0.0</td>\n",
       "      <td>0.0</td>\n",
       "      <td>0.0</td>\n",
       "      <td>1.0</td>\n",
       "      <td>0.0</td>\n",
       "      <td>0.0</td>\n",
       "      <td>0.0</td>\n",
       "      <td>6.0</td>\n",
       "    </tr>\n",
       "    <tr>\n",
       "      <th>2016-07-05 20:11:17.500</th>\n",
       "      <td>0.0</td>\n",
       "      <td>0.0</td>\n",
       "      <td>0.0</td>\n",
       "      <td>0.0</td>\n",
       "      <td>0.0</td>\n",
       "      <td>0.0</td>\n",
       "      <td>1.0</td>\n",
       "      <td>0.0</td>\n",
       "      <td>0.0</td>\n",
       "      <td>0.0</td>\n",
       "      <td>...</td>\n",
       "      <td>0.0</td>\n",
       "      <td>1.0</td>\n",
       "      <td>0.0</td>\n",
       "      <td>0.0</td>\n",
       "      <td>0.0</td>\n",
       "      <td>1.0</td>\n",
       "      <td>0.0</td>\n",
       "      <td>0.0</td>\n",
       "      <td>0.0</td>\n",
       "      <td>7.0</td>\n",
       "    </tr>\n",
       "    <tr>\n",
       "      <th>2016-07-05 20:11:17.750</th>\n",
       "      <td>0.0</td>\n",
       "      <td>0.0</td>\n",
       "      <td>0.0</td>\n",
       "      <td>0.0</td>\n",
       "      <td>0.0</td>\n",
       "      <td>0.0</td>\n",
       "      <td>1.0</td>\n",
       "      <td>0.0</td>\n",
       "      <td>0.0</td>\n",
       "      <td>0.0</td>\n",
       "      <td>...</td>\n",
       "      <td>0.0</td>\n",
       "      <td>1.0</td>\n",
       "      <td>0.0</td>\n",
       "      <td>0.0</td>\n",
       "      <td>0.0</td>\n",
       "      <td>1.0</td>\n",
       "      <td>0.0</td>\n",
       "      <td>0.0</td>\n",
       "      <td>0.0</td>\n",
       "      <td>8.0</td>\n",
       "    </tr>\n",
       "  </tbody>\n",
       "</table>\n",
       "<p>8 rows × 23 columns</p>\n",
       "</div>"
      ],
      "text/plain": [
       "                         Stream1  Stream2  Stream4  Stream1(t-4)  \\\n",
       "Timestamp                                                          \n",
       "2016-07-05 20:11:16.000      0.0      0.0      0.0           0.0   \n",
       "2016-07-05 20:11:16.250      0.0      0.0      0.0           0.0   \n",
       "2016-07-05 20:11:16.500      0.0      0.0      0.0           0.0   \n",
       "2016-07-05 20:11:16.750      0.0      0.0      0.0           0.0   \n",
       "2016-07-05 20:11:17.000      0.0      0.0      0.0           0.0   \n",
       "2016-07-05 20:11:17.250      0.0      0.0      0.0           0.0   \n",
       "2016-07-05 20:11:17.500      0.0      0.0      0.0           0.0   \n",
       "2016-07-05 20:11:17.750      0.0      0.0      0.0           0.0   \n",
       "\n",
       "                         Stream2(t-4)  Stream4(t-4)  Truth(t-4)  Stream1(t-3)  \\\n",
       "Timestamp                                                                       \n",
       "2016-07-05 20:11:16.000           0.0           0.0         0.0           0.0   \n",
       "2016-07-05 20:11:16.250           0.0           0.0         0.0           0.0   \n",
       "2016-07-05 20:11:16.500           0.0           0.0         0.0           0.0   \n",
       "2016-07-05 20:11:16.750           0.0           0.0         0.0           0.0   \n",
       "2016-07-05 20:11:17.000           0.0           0.0         1.0           0.0   \n",
       "2016-07-05 20:11:17.250           0.0           0.0         1.0           0.0   \n",
       "2016-07-05 20:11:17.500           0.0           0.0         1.0           0.0   \n",
       "2016-07-05 20:11:17.750           0.0           0.0         1.0           0.0   \n",
       "\n",
       "                         Stream2(t-3)  Stream4(t-3)     ...      Stream4(t-2)  \\\n",
       "Timestamp                                               ...                     \n",
       "2016-07-05 20:11:16.000           0.0           0.0     ...               0.0   \n",
       "2016-07-05 20:11:16.250           0.0           0.0     ...               0.0   \n",
       "2016-07-05 20:11:16.500           0.0           0.0     ...               0.0   \n",
       "2016-07-05 20:11:16.750           0.0           0.0     ...               0.0   \n",
       "2016-07-05 20:11:17.000           0.0           0.0     ...               0.0   \n",
       "2016-07-05 20:11:17.250           0.0           0.0     ...               0.0   \n",
       "2016-07-05 20:11:17.500           0.0           0.0     ...               0.0   \n",
       "2016-07-05 20:11:17.750           0.0           0.0     ...               0.0   \n",
       "\n",
       "                         Truth(t-2)  Stream1(t-1)  Stream2(t-1)  Stream4(t-1)  \\\n",
       "Timestamp                                                                       \n",
       "2016-07-05 20:11:16.000         0.0           0.0           0.0           0.0   \n",
       "2016-07-05 20:11:16.250         0.0           0.0           0.0           0.0   \n",
       "2016-07-05 20:11:16.500         1.0           0.0           0.0           0.0   \n",
       "2016-07-05 20:11:16.750         1.0           0.0           0.0           0.0   \n",
       "2016-07-05 20:11:17.000         1.0           0.0           0.0           0.0   \n",
       "2016-07-05 20:11:17.250         1.0           0.0           0.0           0.0   \n",
       "2016-07-05 20:11:17.500         1.0           0.0           0.0           0.0   \n",
       "2016-07-05 20:11:17.750         1.0           0.0           0.0           0.0   \n",
       "\n",
       "                         Truth(t-1)  Stream1_roll  Stream2_roll  Stream4_roll  \\\n",
       "Timestamp                                                                       \n",
       "2016-07-05 20:11:16.000         0.0           0.0           0.0           0.0   \n",
       "2016-07-05 20:11:16.250         1.0           0.0           0.0           0.0   \n",
       "2016-07-05 20:11:16.500         1.0           0.0           0.0           0.0   \n",
       "2016-07-05 20:11:16.750         1.0           0.0           0.0           0.0   \n",
       "2016-07-05 20:11:17.000         1.0           0.0           0.0           0.0   \n",
       "2016-07-05 20:11:17.250         1.0           0.0           0.0           0.0   \n",
       "2016-07-05 20:11:17.500         1.0           0.0           0.0           0.0   \n",
       "2016-07-05 20:11:17.750         1.0           0.0           0.0           0.0   \n",
       "\n",
       "                         Truth_roll  \n",
       "Timestamp                            \n",
       "2016-07-05 20:11:16.000         1.0  \n",
       "2016-07-05 20:11:16.250         2.0  \n",
       "2016-07-05 20:11:16.500         3.0  \n",
       "2016-07-05 20:11:16.750         4.0  \n",
       "2016-07-05 20:11:17.000         5.0  \n",
       "2016-07-05 20:11:17.250         6.0  \n",
       "2016-07-05 20:11:17.500         7.0  \n",
       "2016-07-05 20:11:17.750         8.0  \n",
       "\n",
       "[8 rows x 23 columns]"
      ]
     },
     "execution_count": 58,
     "metadata": {},
     "output_type": "execute_result"
    }
   ],
   "source": [
    "# Studying the data-points on which the algorithm was inaccurate in its prediction\n",
    "X_test.loc[y_test[y_test.Truth!=predictions_logit].index]"
   ]
  },
  {
   "cell_type": "markdown",
   "metadata": {},
   "source": [
    "#### The Logistic Regression model misclassified 8 data-points. These data-points lie close to the time when there was a transition in the state of 'Truth'. Will can fine-tune it by adjusting the rolling-window statistics."
   ]
  },
  {
   "cell_type": "markdown",
   "metadata": {},
   "source": [
    "### Gradient Boosting Classifier"
   ]
  },
  {
   "cell_type": "code",
   "execution_count": 34,
   "metadata": {},
   "outputs": [
    {
     "name": "stdout",
     "output_type": "stream",
     "text": [
      "Fitting 3 folds for each of 600 candidates, totalling 1800 fits\n"
     ]
    },
    {
     "name": "stderr",
     "output_type": "stream",
     "text": [
      "[Parallel(n_jobs=1)]: Done 1800 out of 1800 | elapsed:   32.3s finished\n"
     ]
    },
    {
     "data": {
      "text/plain": [
       "(0.9999292753391114,\n",
       " {'learning_rate': 0.5, 'max_depth': 4, 'max_features': 2, 'n_estimators': 20})"
      ]
     },
     "execution_count": 34,
     "metadata": {},
     "output_type": "execute_result"
    }
   ],
   "source": [
    "# Instantiating the GradientBoostingClassifier class\n",
    "gb = GradientBoostingClassifier(n_estimators=20, learning_rate = 1, max_features=2, max_depth = 2, random_state = 0)\n",
    "\n",
    "# Instantiating the TimeSeriesSplit class\n",
    "time_split = TimeSeriesSplit(n_splits=3)\n",
    "\n",
    "# Using grid-search to find the best value for the parameters\n",
    "n_estimators = [5,10,15,20]\n",
    "learning_rates = [0.05, 0.1, 0.25, 0.5, 0.75, 1]\n",
    "max_features= [2,4,6,8,10]\n",
    "max_depth= [2,4,6,8,10]\n",
    "gb_grid_searcher = GridSearchCV(estimator=gb, param_grid={'n_estimators':n_estimators,'learning_rate': learning_rates, \n",
    "                                                          'max_features':max_features,'max_depth':max_depth}, \n",
    "                                scoring='roc_auc', n_jobs=1, cv=time_split, verbose=1)\n",
    "gb_grid_searcher.fit(X, y)\n",
    "gb_grid_searcher.best_score_, gb_grid_searcher.best_params_"
   ]
  },
  {
   "cell_type": "markdown",
   "metadata": {},
   "source": [
    "##### Since the performance is quite high, I'm not going to tweak the parameters more."
   ]
  },
  {
   "cell_type": "code",
   "execution_count": 35,
   "metadata": {},
   "outputs": [
    {
     "name": "stdout",
     "output_type": "stream",
     "text": [
      "The mean score of the Classifier is: 0.9942307692307694\n",
      "The mean Area under the ROC curve of the classifier is: 0.9993206521739131\n"
     ]
    }
   ],
   "source": [
    "# Instantiating the GradientBoostingClassifier class with updated parameters \n",
    "gb_updated = GradientBoostingClassifier(n_estimators=20, learning_rate = 0.5, max_features=2, max_depth = 4, random_state = 0)\n",
    "\n",
    "# Checking the performance of the Classifier using Time Series Cross validation\n",
    "TS_CrossVal(10,X,y,gb_updated)"
   ]
  },
  {
   "cell_type": "code",
   "execution_count": 36,
   "metadata": {
    "scrolled": true
   },
   "outputs": [
    {
     "data": {
      "text/plain": [
       "[('Truth_roll', 0.5088943990929876),\n",
       " ('Truth(t-2)', 0.1088740857432013),\n",
       " ('Truth(t-1)', 0.09576290729178315),\n",
       " ('Truth(t-4)', 0.07331378337842683),\n",
       " ('Truth(t-3)', 0.06534620015859141),\n",
       " ('Stream1_roll', 0.020999561019677686),\n",
       " ('Stream2(t-2)', 0.018953103926796895),\n",
       " ('Stream2(t-1)', 0.017981328355848127),\n",
       " ('Stream4(t-4)', 0.016632740593837046),\n",
       " ('Stream1', 0.01587848017693646),\n",
       " ('Stream4(t-1)', 0.013042060808858063),\n",
       " ('Stream4(t-3)', 0.01184300616469858),\n",
       " ('Stream1(t-4)', 0.01155245219834341),\n",
       " ('Stream4(t-2)', 0.004893296109778323),\n",
       " ('Stream4', 0.003425302946861594),\n",
       " ('Stream1(t-3)', 0.0033969655628839543),\n",
       " ('Stream1(t-1)', 0.0030122764674376285),\n",
       " ('Stream2(t-3)', 0.0026833695201405024),\n",
       " ('Stream4_roll', 0.0016037264259821191),\n",
       " ('Stream2_roll', 0.0012133180395265946),\n",
       " ('Stream2', 0.00046346961658144204),\n",
       " ('Stream1(t-2)', 0.00023415015964234847),\n",
       " ('Stream2(t-4)', 1.624117883311984e-08)]"
      ]
     },
     "execution_count": 36,
     "metadata": {},
     "output_type": "execute_result"
    }
   ],
   "source": [
    "# Exploring the importance of each variable solely based on the value of the coefficients (Not based on statistical significance test)\n",
    "Coef_Importance = [(i,j) for i,j in zip(X.columns.tolist(),gb_updated.feature_importances_)]\n",
    "sorted(Coef_Importance, key=lambda x: x[1],reverse=True)"
   ]
  },
  {
   "cell_type": "markdown",
   "metadata": {},
   "source": [
    "#### The feature importance calculated by the GradientBoostingClassifier model suggests a different story when it comes to the predictive capacity of Data from Stream-1, along with its lags and rolling statistic. Stream1_roll seems to be the 6th most predictive feature."
   ]
  },
  {
   "cell_type": "code",
   "execution_count": 37,
   "metadata": {},
   "outputs": [
    {
     "data": {
      "image/png": "[encoded data removed]",
      "text/plain": [
       "<Figure size 432x288 with 1 Axes>"
      ]
     },
     "metadata": {},
     "output_type": "display_data"
    }
   ],
   "source": [
    "# Calling the function for building an ROC curve\n",
    "plot_roc(gb_updated,y_test,X_test,y_train,X_train)"
   ]
  },
  {
   "cell_type": "code",
   "execution_count": 59,
   "metadata": {},
   "outputs": [
    {
     "data": {
      "image/png": "[encoded data removed]",
      "text/plain": [
       "<Figure size 1440x720 with 2 Axes>"
      ]
     },
     "metadata": {},
     "output_type": "display_data"
    }
   ],
   "source": [
    "# Making predictions using the updated GradientBoostingClassifier Model\n",
    "predictions_gb = gb_updated.predict(X_test)\n",
    "\n",
    "# Plotting the predictions vs the 'Truth'\n",
    "f, (ax1, ax2) = plt.subplots(2, sharex=True, sharey=True,figsize=(20,10))\n",
    "ax1.plot(X_test.index, predictions_gb)\n",
    "ax1.set_title('Variation across Time')\n",
    "ax2.plot(X_test.index, y_test)\n",
    "ax1.set_ylabel('Predictions')\n",
    "ax2.set_ylabel('Truth')\n",
    "plt.show()"
   ]
  },
  {
   "cell_type": "code",
   "execution_count": 60,
   "metadata": {},
   "outputs": [
    {
     "data": {
      "text/html": [
       "<div>\n",
       "<style scoped>\n",
       "    .dataframe tbody tr th:only-of-type {\n",
       "        vertical-align: middle;\n",
       "    }\n",
       "\n",
       "    .dataframe tbody tr th {\n",
       "        vertical-align: top;\n",
       "    }\n",
       "\n",
       "    .dataframe thead th {\n",
       "        text-align: right;\n",
       "    }\n",
       "</style>\n",
       "<table border=\"1\" class=\"dataframe\">\n",
       "  <thead>\n",
       "    <tr style=\"text-align: right;\">\n",
       "      <th></th>\n",
       "      <th>Stream1</th>\n",
       "      <th>Stream2</th>\n",
       "      <th>Stream4</th>\n",
       "      <th>Stream1(t-4)</th>\n",
       "      <th>Stream2(t-4)</th>\n",
       "      <th>Stream4(t-4)</th>\n",
       "      <th>Truth(t-4)</th>\n",
       "      <th>Stream1(t-3)</th>\n",
       "      <th>Stream2(t-3)</th>\n",
       "      <th>Stream4(t-3)</th>\n",
       "      <th>...</th>\n",
       "      <th>Stream4(t-2)</th>\n",
       "      <th>Truth(t-2)</th>\n",
       "      <th>Stream1(t-1)</th>\n",
       "      <th>Stream2(t-1)</th>\n",
       "      <th>Stream4(t-1)</th>\n",
       "      <th>Truth(t-1)</th>\n",
       "      <th>Stream1_roll</th>\n",
       "      <th>Stream2_roll</th>\n",
       "      <th>Stream4_roll</th>\n",
       "      <th>Truth_roll</th>\n",
       "    </tr>\n",
       "    <tr>\n",
       "      <th>Timestamp</th>\n",
       "      <th></th>\n",
       "      <th></th>\n",
       "      <th></th>\n",
       "      <th></th>\n",
       "      <th></th>\n",
       "      <th></th>\n",
       "      <th></th>\n",
       "      <th></th>\n",
       "      <th></th>\n",
       "      <th></th>\n",
       "      <th></th>\n",
       "      <th></th>\n",
       "      <th></th>\n",
       "      <th></th>\n",
       "      <th></th>\n",
       "      <th></th>\n",
       "      <th></th>\n",
       "      <th></th>\n",
       "      <th></th>\n",
       "      <th></th>\n",
       "      <th></th>\n",
       "    </tr>\n",
       "  </thead>\n",
       "  <tbody>\n",
       "  </tbody>\n",
       "</table>\n",
       "<p>0 rows × 23 columns</p>\n",
       "</div>"
      ],
      "text/plain": [
       "Empty DataFrame\n",
       "Columns: [Stream1, Stream2, Stream4, Stream1(t-4), Stream2(t-4), Stream4(t-4), Truth(t-4), Stream1(t-3), Stream2(t-3), Stream4(t-3), Truth(t-3), Stream1(t-2), Stream2(t-2), Stream4(t-2), Truth(t-2), Stream1(t-1), Stream2(t-1), Stream4(t-1), Truth(t-1), Stream1_roll, Stream2_roll, Stream4_roll, Truth_roll]\n",
       "Index: []\n",
       "\n",
       "[0 rows x 23 columns]"
      ]
     },
     "execution_count": 60,
     "metadata": {},
     "output_type": "execute_result"
    }
   ],
   "source": [
    "X_test.loc[y_test[y_test.Truth!=predictions_gb].index]"
   ]
  },
  {
   "cell_type": "markdown",
   "metadata": {},
   "source": [
    "## Observations:"
   ]
  },
  {
   "cell_type": "markdown",
   "metadata": {},
   "source": [
    "#### - Stream 3 gives a constant output of ‘0’. This might be because of the following reasons: (1)Sensor at Node-3 is not operational; (2) The ON-Threshold value used by the Black Box Stream Algorithm to analyze Raw-Stream-3 is too high and hence it is unable to detect human presence; (3) There is some object (maybe made up of aluminum foil, and other electrically conductive metals) interfering with the RF signals; (4) The sensor is positioned in an inaccessible part of the room (which is possibly very large);\n"
   ]
  },
  {
   "cell_type": "markdown",
   "metadata": {},
   "source": [
    "#### -The spike in Stream 2 at '2016-07-05 20:09:12.048' looks like a disturbance rather than the presence of a human. It lasted only for a few milli-seconds and it was observed when there wasn't any human present in the room."
   ]
  },
  {
   "cell_type": "markdown",
   "metadata": {},
   "source": [
    "#### -It seems like the Black Box non-ML algorithm predicts the presence of a human if any one of the data streams detects the presence. Additionally, if Stream-1 changes its Truth value from 1 to 0 (while the rest of the Streams show '0'), the Black Box algorithm will maintain its Truth value as '1' for an additional 58 seconds approximately. Similarly for Stream-2 it persists for an additional 37 seconds and for Stream-4 it is 47 seconds approximately."
   ]
  },
  {
   "cell_type": "markdown",
   "metadata": {},
   "source": [
    "#### -The two-step resampled series is more smooth, retains the original structure of the series, and removes the spike in Stream 2 at '2016-07-05 20:09:12.048'. Hence, the two-step resampling is highly effective."
   ]
  },
  {
   "cell_type": "markdown",
   "metadata": {},
   "source": [
    "#### -The predictive capacity of Data from Stream-1, along with its lags and rolling statistic, is quite low according to the univariate roc-auc and the coefficients of the Logistic Regression. But, it is significant in the Gradient Boosting Classifier."
   ]
  },
  {
   "cell_type": "markdown",
   "metadata": {},
   "source": [
    "#### -Even though the features show low statistical significance, the Logistic Regression model is able to predict the behavior of the dependent variable with high accuracy (probably due to Quasicomplete separation caused by Truth(t-1)."
   ]
  },
  {
   "cell_type": "markdown",
   "metadata": {},
   "source": [
    "#### -The Logistic Regression model misclassified 8 data-points. These data-points lie close to the time when there was a transition in the state of 'Truth'. Will can fine-tune it by adjusting the rolling-window statistics."
   ]
  },
  {
   "cell_type": "markdown",
   "metadata": {},
   "source": [
    "#### -The GradientBoostingClassifier was able to predict all the values in the test set accurately"
   ]
  },
  {
   "cell_type": "markdown",
   "metadata": {},
   "source": [
    "#### -Other models (like Markov Switching models, RNNs, etc) were not explored since the performance from the simpler models were impressive "
   ]
  }
 ],
 "metadata": {
  "kernelspec": {
   "display_name": "Python 3",
   "language": "python",
   "name": "python3"
  },
  "language_info": {
   "codemirror_mode": {
    "name": "ipython",
    "version": 3
   },
   "file_extension": ".py",
   "mimetype": "text/x-python",
   "name": "python",
   "nbconvert_exporter": "python",
   "pygments_lexer": "ipython3",
   "version": "3.6.5"
  }
 },
 "nbformat": 4,
 "nbformat_minor": 2
}
